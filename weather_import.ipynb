{
 "cells": [
  {
   "cell_type": "code",
   "execution_count": 1,
   "id": "higher-principal",
   "metadata": {},
   "outputs": [
    {
     "name": "stdout",
     "output_type": "stream",
     "text": [
      "Starting Spark application\n"
     ]
    },
    {
     "data": {
      "text/html": [
       "<table>\n",
       "<tr><th>ID</th><th>YARN Application ID</th><th>Kind</th><th>State</th><th>Spark UI</th><th>Driver log</th><th>User</th><th>Current session?</th></tr><tr><td>1</td><td>application_1612373415994_0002</td><td>pyspark</td><td>idle</td><td><a target=\"_blank\" href=\"http://ip-172-31-2-189.us-east-2.compute.internal:20888/proxy/application_1612373415994_0002/\">Link</a></td><td><a target=\"_blank\" href=\"http://ip-172-31-2-243.us-east-2.compute.internal:8042/node/containerlogs/container_1612373415994_0002_01_000001/livy\">Link</a></td><td>None</td><td>✔</td></tr></table>"
      ],
      "text/plain": [
       "<IPython.core.display.HTML object>"
      ]
     },
     "metadata": {},
     "output_type": "display_data"
    },
    {
     "data": {
      "application/vnd.jupyter.widget-view+json": {
       "model_id": "",
       "version_major": 2,
       "version_minor": 0
      },
      "text/plain": [
       "FloatProgress(value=0.0, bar_style='info', description='Progress:', layout=Layout(height='25px', width='50%'),…"
      ]
     },
     "metadata": {},
     "output_type": "display_data"
    },
    {
     "name": "stdout",
     "output_type": "stream",
     "text": [
      "SparkSession available as 'spark'.\n"
     ]
    },
    {
     "data": {
      "application/vnd.jupyter.widget-view+json": {
       "model_id": "",
       "version_major": 2,
       "version_minor": 0
      },
      "text/plain": [
       "FloatProgress(value=0.0, bar_style='info', description='Progress:', layout=Layout(height='25px', width='50%'),…"
      ]
     },
     "metadata": {},
     "output_type": "display_data"
    }
   ],
   "source": [
    "import sys\n",
    "from awsglue.transforms import *\n",
    "from awsglue.utils import getResolvedOptions\n",
    "from pyspark.context import SparkContext\n",
    "from awsglue.context import GlueContext\n",
    "from awsglue.job import Job\n",
    "from datetime import datetime, timedelta\n",
    "\n"
   ]
  },
  {
   "cell_type": "code",
   "execution_count": 16,
   "id": "suspected-enhancement",
   "metadata": {},
   "outputs": [
    {
     "data": {
      "application/vnd.jupyter.widget-view+json": {
       "model_id": "",
       "version_major": 2,
       "version_minor": 0
      },
      "text/plain": [
       "FloatProgress(value=0.0, bar_style='info', description='Progress:', layout=Layout(height='25px', width='50%'),…"
      ]
     },
     "metadata": {},
     "output_type": "display_data"
    }
   ],
   "source": [
    "\n",
    "def get_moon_phase(dyn_rec):\n",
    "    \"\"\"\n",
    "    determine the moon phase at a given date\n",
    "    (mildly off on moon's light intensity)\n",
    "    checked with http://aa.usno.navy.mil/data/docs/RS_OneDay.html\n",
    "    \n",
    "    Returns:\n",
    "\n",
    "    \"\"\"\n",
    "    \n",
    "    day = dyn_rec['local_time'].day\n",
    "    year = dyn_rec['local_time'].year\n",
    "    month = dyn_rec['local_time'].month\n",
    "    \n",
    "    ages = [18, 0, 11, 22, 3, 14, 25, 6, 17, 28, 9, 20, 1, 12, 23, 4, 15, 26, 7]\n",
    "    offsets = [-1, 1, 0, 1, 2, 3, 4, 5, 7, 7, 9, 9]\n",
    "    description = [\"new (totally dark)\",\n",
    "      \"waxing crescent (increasing to full)\",\n",
    "      \"in its first quarter (increasing to full)\",\n",
    "      \"waxing gibbous (increasing to full)\",\n",
    "      \"full (full light)\",\n",
    "      \"waning gibbous (decreasing from full)\",\n",
    "      \"in its last quarter (decreasing from full)\",\n",
    "      \"waning crescent (decreasing from full)\"]\n",
    "    months = [\"Jan\", \"Feb\", \"Mar\", \"Apr\", \"May\", \"Jun\",\n",
    "              \"Jul\", \"Aug\", \"Sep\", \"Oct\", \"Nov\", \"Dec\"]\n",
    "\n",
    "    \n",
    "    if day == 31:\n",
    "        day = 1\n",
    "    days_into_phase = ((ages[(year + 1) % 19] +\n",
    "                        ((day + offsets[month-1]) % 30) +\n",
    "                        (year < 1900)) % 30)\n",
    "    index = int((days_into_phase + 2) * 16/59.0)\n",
    "    #print(index)  # test\n",
    "    if index > 7:\n",
    "        index = 7\n",
    "    status = description[index]\n",
    "\n",
    "    # light should be 100% 15 days into phase\n",
    "    light = int(2 * days_into_phase * 100/29)\n",
    "    if light > 100:\n",
    "        light = abs(light - 200);\n",
    "    date = \"%d%s%d\" % (day, months[month-1], year)\n",
    "\n",
    "    dyn_rec['moon_phase'] = status\n",
    "    return dyn_rec"
   ]
  },
  {
   "cell_type": "code",
   "execution_count": 2,
   "id": "ecological-ribbon",
   "metadata": {},
   "outputs": [
    {
     "data": {
      "application/vnd.jupyter.widget-view+json": {
       "model_id": "",
       "version_major": 2,
       "version_minor": 0
      },
      "text/plain": [
       "FloatProgress(value=0.0, bar_style='info', description='Progress:', layout=Layout(height='25px', width='50%'),…"
      ]
     },
     "metadata": {},
     "output_type": "display_data"
    }
   ],
   "source": [
    "## @params: [TempDir, JOB_NAME]\n",
    "#args = getResolvedOptions(sys.argv, ['TempDir','JOB_NAME'])\n",
    "\n",
    "glueContext = GlueContext(SparkContext.getOrCreate())\n",
    "spark = glueContext.spark_session\n",
    "#job = Job(glueContext)\n",
    "#job.init(args['JOB_NAME'], args)"
   ]
  },
  {
   "cell_type": "code",
   "execution_count": 3,
   "id": "attended-realtor",
   "metadata": {},
   "outputs": [
    {
     "data": {
      "application/vnd.jupyter.widget-view+json": {
       "model_id": "",
       "version_major": 2,
       "version_minor": 0
      },
      "text/plain": [
       "FloatProgress(value=0.0, bar_style='info', description='Progress:', layout=Layout(height='25px', width='50%'),…"
      ]
     },
     "metadata": {},
     "output_type": "display_data"
    }
   ],
   "source": [
    "## @type: DataSource\n",
    "## @args: [database = \"historical-weather-db\", table_name = \"owmhistoricalweather\", transformation_ctx = \"DataSource0\"]\n",
    "## @return: DataSource0\n",
    "## @inputs: []\n",
    "DataSource0 = glueContext.create_dynamic_frame.from_catalog(\n",
    "    database = \"historical-weather-db\", \n",
    "    table_name = \"owmhistoricalweather\", \n",
    "    transformation_ctx = \"DataSource0\")\n"
   ]
  },
  {
   "cell_type": "code",
   "execution_count": 4,
   "id": "dirty-blogger",
   "metadata": {},
   "outputs": [
    {
     "data": {
      "application/vnd.jupyter.widget-view+json": {
       "model_id": "",
       "version_major": 2,
       "version_minor": 0
      },
      "text/plain": [
       "FloatProgress(value=0.0, bar_style='info', description='Progress:', layout=Layout(height='25px', width='50%'),…"
      ]
     },
     "metadata": {},
     "output_type": "display_data"
    },
    {
     "name": "stdout",
     "output_type": "stream",
     "text": [
      "root\n",
      "|-- dt: long\n",
      "|-- dt_iso: string\n",
      "|-- timezone: long\n",
      "|-- city_name: string\n",
      "|-- lat: double\n",
      "|-- lon: double\n",
      "|-- temp: double\n",
      "|-- feels_like: double\n",
      "|-- temp_min: double\n",
      "|-- temp_max: double\n",
      "|-- pressure: long\n",
      "|-- sea_level: string\n",
      "|-- grnd_level: string\n",
      "|-- humidity: long\n",
      "|-- wind_speed: double\n",
      "|-- wind_deg: long\n",
      "|-- rain_3h: string\n",
      "|-- snow_1h: string\n",
      "|-- snow_3h: string\n",
      "|-- clouds_all: long\n",
      "|-- weather_id: long\n",
      "|-- weather_main: string\n",
      "|-- weather_description: string\n",
      "|-- weather_icon: string\n",
      "|-- rain_1h: double"
     ]
    }
   ],
   "source": [
    "DataSource0.printSchema()"
   ]
  },
  {
   "cell_type": "code",
   "execution_count": 5,
   "id": "official-nelson",
   "metadata": {},
   "outputs": [
    {
     "data": {
      "application/vnd.jupyter.widget-view+json": {
       "model_id": "",
       "version_major": 2,
       "version_minor": 0
      },
      "text/plain": [
       "FloatProgress(value=0.0, bar_style='info', description='Progress:', layout=Layout(height='25px', width='50%'),…"
      ]
     },
     "metadata": {},
     "output_type": "display_data"
    },
    {
     "name": "stdout",
     "output_type": "stream",
     "text": [
      "Source Record Count: 8491"
     ]
    }
   ],
   "source": [
    "print(\"Source Record Count: \" + str(DataSource0.count()))"
   ]
  },
  {
   "cell_type": "code",
   "execution_count": 6,
   "id": "veterinary-oliver",
   "metadata": {},
   "outputs": [
    {
     "data": {
      "application/vnd.jupyter.widget-view+json": {
       "model_id": "",
       "version_major": 2,
       "version_minor": 0
      },
      "text/plain": [
       "FloatProgress(value=0.0, bar_style='info', description='Progress:', layout=Layout(height='25px', width='50%'),…"
      ]
     },
     "metadata": {},
     "output_type": "display_data"
    }
   ],
   "source": [
    "ds0 = DataSource0.toDF()"
   ]
  },
  {
   "cell_type": "code",
   "execution_count": 7,
   "id": "quality-japanese",
   "metadata": {},
   "outputs": [
    {
     "data": {
      "application/vnd.jupyter.widget-view+json": {
       "model_id": "",
       "version_major": 2,
       "version_minor": 0
      },
      "text/plain": [
       "FloatProgress(value=0.0, bar_style='info', description='Progress:', layout=Layout(height='25px', width='50%'),…"
      ]
     },
     "metadata": {},
     "output_type": "display_data"
    },
    {
     "name": "stdout",
     "output_type": "stream",
     "text": [
      "root\n",
      " |-- dt: long (nullable = true)\n",
      " |-- dt_iso: string (nullable = true)\n",
      " |-- timezone: long (nullable = true)\n",
      " |-- city_name: string (nullable = true)\n",
      " |-- lat: double (nullable = true)\n",
      " |-- lon: double (nullable = true)\n",
      " |-- temp: double (nullable = true)\n",
      " |-- feels_like: double (nullable = true)\n",
      " |-- temp_min: double (nullable = true)\n",
      " |-- temp_max: double (nullable = true)\n",
      " |-- pressure: long (nullable = true)\n",
      " |-- sea_level: string (nullable = true)\n",
      " |-- grnd_level: string (nullable = true)\n",
      " |-- humidity: long (nullable = true)\n",
      " |-- wind_speed: double (nullable = true)\n",
      " |-- wind_deg: long (nullable = true)\n",
      " |-- rain_3h: string (nullable = true)\n",
      " |-- snow_1h: string (nullable = true)\n",
      " |-- snow_3h: string (nullable = true)\n",
      " |-- clouds_all: long (nullable = true)\n",
      " |-- weather_id: long (nullable = true)\n",
      " |-- weather_main: string (nullable = true)\n",
      " |-- weather_description: string (nullable = true)\n",
      " |-- weather_icon: string (nullable = true)\n",
      " |-- rain_1h: double (nullable = true)"
     ]
    }
   ],
   "source": [
    "ds0.printSchema()"
   ]
  },
  {
   "cell_type": "code",
   "execution_count": 8,
   "id": "touched-kidney",
   "metadata": {},
   "outputs": [
    {
     "data": {
      "application/vnd.jupyter.widget-view+json": {
       "model_id": "",
       "version_major": 2,
       "version_minor": 0
      },
      "text/plain": [
       "FloatProgress(value=0.0, bar_style='info', description='Progress:', layout=Layout(height='25px', width='50%'),…"
      ]
     },
     "metadata": {},
     "output_type": "display_data"
    },
    {
     "name": "stdout",
     "output_type": "stream",
     "text": [
      "+----------+--------------------+--------+---------+---------+----------+-----+----------+--------+--------+--------+---------+----------+--------+----------+--------+-------+-------+-------+----------+----------+------------+-------------------+------------+-------+-------------------+\n",
      "|        dt|              dt_iso|timezone|city_name|      lat|       lon| temp|feels_like|temp_min|temp_max|pressure|sea_level|grnd_level|humidity|wind_speed|wind_deg|rain_3h|snow_1h|snow_3h|clouds_all|weather_id|weather_main|weather_description|weather_icon|rain_1h|      utc_timestamp|\n",
      "+----------+--------------------+--------+---------+---------+----------+-----+----------+--------+--------+--------+---------+----------+--------+----------+--------+-------+-------+-------+----------+----------+------------+-------------------+------------+-------+-------------------+\n",
      "|1577836800|2020-01-01 00:00:...|  -21600| Corrigan|30.996856|-94.827153|48.67|     45.23|    44.6|   54.22|    1019|         |          |      57|      0.34|     247|       |       |       |         1|       800|       Clear|       sky is clear|         01n|   null|2020-01-01 00:00:00|\n",
      "|1577840400|2020-01-01 01:00:...|  -21600| Corrigan|30.996856|-94.827153|45.77|     42.75|    41.0|   52.68|    1019|         |          |      75|      0.87|     159|       |       |       |         1|       800|       Clear|       sky is clear|         01n|   null|2020-01-01 01:00:00|\n",
      "|1577844000|2020-01-01 02:00:...|  -21600| Corrigan|30.996856|-94.827153|43.61|      39.6|    39.0|   51.56|    1018|         |          |      80|      2.46|     179|       |       |       |         1|       800|       Clear|       sky is clear|         01n|   null|2020-01-01 02:00:00|\n",
      "|1577847600|2020-01-01 03:00:...|  -21600| Corrigan|30.996856|-94.827153|42.39|     38.08|    37.4|    50.0|    1019|         |          |      80|      2.59|     172|       |       |       |         1|       800|       Clear|       sky is clear|         01n|   null|2020-01-01 03:00:00|\n",
      "|1577851200|2020-01-01 04:00:...|  -21600| Corrigan|30.996856|-94.827153|41.79|     37.47|    37.4|   48.99|    1018|         |          |      80|      2.46|     184|       |       |       |         1|       800|       Clear|       sky is clear|         01n|   null|2020-01-01 04:00:00|\n",
      "|1577854800|2020-01-01 05:00:...|  -21600| Corrigan|30.996856|-94.827153|41.41|      36.7|    37.4|   48.99|    1019|         |          |      80|      3.06|     213|       |       |       |         1|       800|       Clear|       sky is clear|         01n|   null|2020-01-01 05:00:00|\n",
      "|1577858400|2020-01-01 06:00:...|  -21600| Corrigan|30.996856|-94.827153|41.16|     36.23|    35.6|   47.86|    1018|         |          |      86|      3.91|     186|       |       |       |         1|       800|       Clear|       sky is clear|         01n|   null|2020-01-01 06:00:00|\n",
      "|1577862000|2020-01-01 07:00:...|  -21600| Corrigan|30.996856|-94.827153|41.05|      36.1|    35.6|   47.88|    1017|         |          |      86|      3.94|     190|       |       |       |         1|       800|       Clear|       sky is clear|         01n|   null|2020-01-01 07:00:00|\n",
      "|1577865600|2020-01-01 08:00:...|  -21600| Corrigan|30.996856|-94.827153|40.73|     35.87|    33.8|   47.37|    1017|         |          |      86|      3.67|     213|       |       |       |         1|       800|       Clear|       sky is clear|         01n|   null|2020-01-01 08:00:00|\n",
      "|1577869200|2020-01-01 09:00:...|  -21600| Corrigan|30.996856|-94.827153|41.29|     36.77|    33.8|   48.09|    1018|         |          |      86|      3.24|     210|       |       |       |         1|       800|       Clear|       sky is clear|         01n|   null|2020-01-01 09:00:00|\n",
      "|1577872800|2020-01-01 10:00:...|  -21600| Corrigan|30.996856|-94.827153| 41.4|     37.08|   37.99|    48.0|    1017|         |          |      86|      2.91|     219|       |       |       |         1|       800|       Clear|       sky is clear|         01n|   null|2020-01-01 10:00:00|\n",
      "|1577876400|2020-01-01 11:00:...|  -21600| Corrigan|30.996856|-94.827153|41.07|     36.37|    33.8|   48.99|    1016|         |          |      86|      3.49|     183|       |       |       |         1|       800|       Clear|       sky is clear|         01n|   null|2020-01-01 11:00:00|\n",
      "|1577880000|2020-01-01 12:00:...|  -21600| Corrigan|30.996856|-94.827153|40.23|     35.51|    33.8|    45.0|    1016|         |          |      86|      3.24|     143|       |       |       |        90|       804|      Clouds|    overcast clouds|         04n|   null|2020-01-01 12:00:00|\n",
      "|1577883600|2020-01-01 13:00:...|  -21600| Corrigan|30.996856|-94.827153|42.69|     37.53|    35.6|    50.0|    1016|         |          |      81|      4.34|     133|       |       |       |        90|       804|      Clouds|    overcast clouds|         04n|   null|2020-01-01 13:00:00|\n",
      "|1577887200|2020-01-01 14:00:...|  -21600| Corrigan|30.996856|-94.827153|44.22|     38.77|    39.2|    50.0|    1016|         |          |      75|       4.7|     130|       |       |       |        90|       804|      Clouds|    overcast clouds|         04d|   null|2020-01-01 14:00:00|\n",
      "|1577890800|2020-01-01 15:00:...|  -21600| Corrigan|30.996856|-94.827153|46.27|     38.66|    42.8|    50.0|    1015|         |          |      65|      8.05|     140|       |       |       |        90|       804|      Clouds|    overcast clouds|         04d|   null|2020-01-01 15:00:00|\n",
      "|1577894400|2020-01-01 16:00:...|  -21600| Corrigan|30.996856|-94.827153|49.62|     43.25|    48.0|   51.01|    1016|         |          |      66|      6.93|     160|       |       |       |        90|       804|      Clouds|    overcast clouds|         04d|   null|2020-01-01 16:00:00|\n",
      "|1577898000|2020-01-01 17:00:...|  -21600| Corrigan|30.996856|-94.827153|50.95|     44.46|    50.0|    52.0|    1015|         |          |      61|      6.93|     160|       |       |       |        90|       804|      Clouds|    overcast clouds|         04d|   null|2020-01-01 17:00:00|\n",
      "|1577901600|2020-01-01 18:00:...|  -21600| Corrigan|30.996856|-94.827153|52.05|     47.44|   50.96|    54.0|    1014|         |          |      57|      3.36|     160|       |       |       |        90|       804|      Clouds|    overcast clouds|         04d|   null|2020-01-01 18:00:00|\n",
      "|1577905200|2020-01-01 19:00:...|  -21600| Corrigan|30.996856|-94.827153|52.77|     46.89|    51.8|    55.0|    1013|         |          |      57|      5.82|     150|       |       |       |        90|       804|      Clouds|    overcast clouds|         04d|   null|2020-01-01 19:00:00|\n",
      "+----------+--------------------+--------+---------+---------+----------+-----+----------+--------+--------+--------+---------+----------+--------+----------+--------+-------+-------+-------+----------+----------+------------+-------------------+------------+-------+-------------------+\n",
      "only showing top 20 rows"
     ]
    }
   ],
   "source": [
    "from pyspark.sql.functions import to_timestamp, col\n",
    "\n",
    "ds1 = ds0.withColumn('utc_timestamp', to_timestamp(col('dt_iso'),\"yyyy-MM-dd HH:mm:ss z Z\"))\n",
    "ds1.show()"
   ]
  },
  {
   "cell_type": "code",
   "execution_count": 12,
   "id": "fourth-separate",
   "metadata": {},
   "outputs": [
    {
     "data": {
      "application/vnd.jupyter.widget-view+json": {
       "model_id": "",
       "version_major": 2,
       "version_minor": 0
      },
      "text/plain": [
       "FloatProgress(value=0.0, bar_style='info', description='Progress:', layout=Layout(height='25px', width='50%'),…"
      ]
     },
     "metadata": {},
     "output_type": "display_data"
    },
    {
     "name": "stdout",
     "output_type": "stream",
     "text": [
      "+----------+--------------------+--------+---------+---------+----------+-----+----------+--------+--------+--------+---------+----------+--------+----------+--------+-------+-------+-------+----------+----------+------------+-------------------+------------+-------+-------------------+-------------------+\n",
      "|        dt|              dt_iso|timezone|city_name|      lat|       lon| temp|feels_like|temp_min|temp_max|pressure|sea_level|grnd_level|humidity|wind_speed|wind_deg|rain_3h|snow_1h|snow_3h|clouds_all|weather_id|weather_main|weather_description|weather_icon|rain_1h|      utc_timestamp|         local_time|\n",
      "+----------+--------------------+--------+---------+---------+----------+-----+----------+--------+--------+--------+---------+----------+--------+----------+--------+-------+-------+-------+----------+----------+------------+-------------------+------------+-------+-------------------+-------------------+\n",
      "|1577836800|2020-01-01 00:00:...|  -21600| Corrigan|30.996856|-94.827153|48.67|     45.23|    44.6|   54.22|    1019|         |          |      57|      0.34|     247|       |       |       |         1|       800|       Clear|       sky is clear|         01n|   null|2020-01-01 00:00:00|2019-12-31 18:00:00|\n",
      "|1577840400|2020-01-01 01:00:...|  -21600| Corrigan|30.996856|-94.827153|45.77|     42.75|    41.0|   52.68|    1019|         |          |      75|      0.87|     159|       |       |       |         1|       800|       Clear|       sky is clear|         01n|   null|2020-01-01 01:00:00|2019-12-31 19:00:00|\n",
      "|1577844000|2020-01-01 02:00:...|  -21600| Corrigan|30.996856|-94.827153|43.61|      39.6|    39.0|   51.56|    1018|         |          |      80|      2.46|     179|       |       |       |         1|       800|       Clear|       sky is clear|         01n|   null|2020-01-01 02:00:00|2019-12-31 20:00:00|\n",
      "|1577847600|2020-01-01 03:00:...|  -21600| Corrigan|30.996856|-94.827153|42.39|     38.08|    37.4|    50.0|    1019|         |          |      80|      2.59|     172|       |       |       |         1|       800|       Clear|       sky is clear|         01n|   null|2020-01-01 03:00:00|2019-12-31 21:00:00|\n",
      "|1577851200|2020-01-01 04:00:...|  -21600| Corrigan|30.996856|-94.827153|41.79|     37.47|    37.4|   48.99|    1018|         |          |      80|      2.46|     184|       |       |       |         1|       800|       Clear|       sky is clear|         01n|   null|2020-01-01 04:00:00|2019-12-31 22:00:00|\n",
      "|1577854800|2020-01-01 05:00:...|  -21600| Corrigan|30.996856|-94.827153|41.41|      36.7|    37.4|   48.99|    1019|         |          |      80|      3.06|     213|       |       |       |         1|       800|       Clear|       sky is clear|         01n|   null|2020-01-01 05:00:00|2019-12-31 23:00:00|\n",
      "|1577858400|2020-01-01 06:00:...|  -21600| Corrigan|30.996856|-94.827153|41.16|     36.23|    35.6|   47.86|    1018|         |          |      86|      3.91|     186|       |       |       |         1|       800|       Clear|       sky is clear|         01n|   null|2020-01-01 06:00:00|2020-01-01 00:00:00|\n",
      "|1577862000|2020-01-01 07:00:...|  -21600| Corrigan|30.996856|-94.827153|41.05|      36.1|    35.6|   47.88|    1017|         |          |      86|      3.94|     190|       |       |       |         1|       800|       Clear|       sky is clear|         01n|   null|2020-01-01 07:00:00|2020-01-01 01:00:00|\n",
      "|1577865600|2020-01-01 08:00:...|  -21600| Corrigan|30.996856|-94.827153|40.73|     35.87|    33.8|   47.37|    1017|         |          |      86|      3.67|     213|       |       |       |         1|       800|       Clear|       sky is clear|         01n|   null|2020-01-01 08:00:00|2020-01-01 02:00:00|\n",
      "|1577869200|2020-01-01 09:00:...|  -21600| Corrigan|30.996856|-94.827153|41.29|     36.77|    33.8|   48.09|    1018|         |          |      86|      3.24|     210|       |       |       |         1|       800|       Clear|       sky is clear|         01n|   null|2020-01-01 09:00:00|2020-01-01 03:00:00|\n",
      "|1577872800|2020-01-01 10:00:...|  -21600| Corrigan|30.996856|-94.827153| 41.4|     37.08|   37.99|    48.0|    1017|         |          |      86|      2.91|     219|       |       |       |         1|       800|       Clear|       sky is clear|         01n|   null|2020-01-01 10:00:00|2020-01-01 04:00:00|\n",
      "|1577876400|2020-01-01 11:00:...|  -21600| Corrigan|30.996856|-94.827153|41.07|     36.37|    33.8|   48.99|    1016|         |          |      86|      3.49|     183|       |       |       |         1|       800|       Clear|       sky is clear|         01n|   null|2020-01-01 11:00:00|2020-01-01 05:00:00|\n",
      "|1577880000|2020-01-01 12:00:...|  -21600| Corrigan|30.996856|-94.827153|40.23|     35.51|    33.8|    45.0|    1016|         |          |      86|      3.24|     143|       |       |       |        90|       804|      Clouds|    overcast clouds|         04n|   null|2020-01-01 12:00:00|2020-01-01 06:00:00|\n",
      "|1577883600|2020-01-01 13:00:...|  -21600| Corrigan|30.996856|-94.827153|42.69|     37.53|    35.6|    50.0|    1016|         |          |      81|      4.34|     133|       |       |       |        90|       804|      Clouds|    overcast clouds|         04n|   null|2020-01-01 13:00:00|2020-01-01 07:00:00|\n",
      "|1577887200|2020-01-01 14:00:...|  -21600| Corrigan|30.996856|-94.827153|44.22|     38.77|    39.2|    50.0|    1016|         |          |      75|       4.7|     130|       |       |       |        90|       804|      Clouds|    overcast clouds|         04d|   null|2020-01-01 14:00:00|2020-01-01 08:00:00|\n",
      "|1577890800|2020-01-01 15:00:...|  -21600| Corrigan|30.996856|-94.827153|46.27|     38.66|    42.8|    50.0|    1015|         |          |      65|      8.05|     140|       |       |       |        90|       804|      Clouds|    overcast clouds|         04d|   null|2020-01-01 15:00:00|2020-01-01 09:00:00|\n",
      "|1577894400|2020-01-01 16:00:...|  -21600| Corrigan|30.996856|-94.827153|49.62|     43.25|    48.0|   51.01|    1016|         |          |      66|      6.93|     160|       |       |       |        90|       804|      Clouds|    overcast clouds|         04d|   null|2020-01-01 16:00:00|2020-01-01 10:00:00|\n",
      "|1577898000|2020-01-01 17:00:...|  -21600| Corrigan|30.996856|-94.827153|50.95|     44.46|    50.0|    52.0|    1015|         |          |      61|      6.93|     160|       |       |       |        90|       804|      Clouds|    overcast clouds|         04d|   null|2020-01-01 17:00:00|2020-01-01 11:00:00|\n",
      "|1577901600|2020-01-01 18:00:...|  -21600| Corrigan|30.996856|-94.827153|52.05|     47.44|   50.96|    54.0|    1014|         |          |      57|      3.36|     160|       |       |       |        90|       804|      Clouds|    overcast clouds|         04d|   null|2020-01-01 18:00:00|2020-01-01 12:00:00|\n",
      "|1577905200|2020-01-01 19:00:...|  -21600| Corrigan|30.996856|-94.827153|52.77|     46.89|    51.8|    55.0|    1013|         |          |      57|      5.82|     150|       |       |       |        90|       804|      Clouds|    overcast clouds|         04d|   null|2020-01-01 19:00:00|2020-01-01 13:00:00|\n",
      "+----------+--------------------+--------+---------+---------+----------+-----+----------+--------+--------+--------+---------+----------+--------+----------+--------+-------+-------+-------+----------+----------+------------+-------------------+------------+-------+-------------------+-------------------+\n",
      "only showing top 20 rows"
     ]
    }
   ],
   "source": [
    "from pyspark.sql.functions import expr\n",
    "ds2 = ds1.withColumn('local_time', ds1.utc_timestamp + expr(\"INTERVAL -21600 seconds\"))\n",
    "ds2.show()"
   ]
  },
  {
   "cell_type": "code",
   "execution_count": null,
   "id": "congressional-seattle",
   "metadata": {},
   "outputs": [],
   "source": []
  },
  {
   "cell_type": "code",
   "execution_count": 14,
   "id": "sufficient-thong",
   "metadata": {},
   "outputs": [
    {
     "data": {
      "application/vnd.jupyter.widget-view+json": {
       "model_id": "",
       "version_major": 2,
       "version_minor": 0
      },
      "text/plain": [
       "FloatProgress(value=0.0, bar_style='info', description='Progress:', layout=Layout(height='25px', width='50%'),…"
      ]
     },
     "metadata": {},
     "output_type": "display_data"
    }
   ],
   "source": [
    "from awsglue.dynamicframe import DynamicFrame\n",
    "\n",
    "new_source = DynamicFrame.fromDF(ds2, glueContext , \"new_source\")"
   ]
  },
  {
   "cell_type": "code",
   "execution_count": 17,
   "id": "novel-copyright",
   "metadata": {},
   "outputs": [
    {
     "data": {
      "application/vnd.jupyter.widget-view+json": {
       "model_id": "",
       "version_major": 2,
       "version_minor": 0
      },
      "text/plain": [
       "FloatProgress(value=0.0, bar_style='info', description='Progress:', layout=Layout(height='25px', width='50%'),…"
      ]
     },
     "metadata": {},
     "output_type": "display_data"
    }
   ],
   "source": [
    "error_info=''\n",
    "mooDF = Map.apply(frame = new_source, f= get_moon_phase, info=error_info)"
   ]
  },
  {
   "cell_type": "code",
   "execution_count": 19,
   "id": "disciplinary-amplifier",
   "metadata": {},
   "outputs": [
    {
     "data": {
      "application/vnd.jupyter.widget-view+json": {
       "model_id": "",
       "version_major": 2,
       "version_minor": 0
      },
      "text/plain": [
       "FloatProgress(value=0.0, bar_style='info', description='Progress:', layout=Layout(height='25px', width='50%'),…"
      ]
     },
     "metadata": {},
     "output_type": "display_data"
    },
    {
     "name": "stdout",
     "output_type": "stream",
     "text": [
      "root\n",
      "|-- snow_3h: string\n",
      "|-- lat: double\n",
      "|-- temp_max: double\n",
      "|-- timezone: long\n",
      "|-- sea_level: string\n",
      "|-- feels_like: double\n",
      "|-- weather_id: long\n",
      "|-- utc_timestamp: timestamp\n",
      "|-- moon_phase: string\n",
      "|-- temp_min: double\n",
      "|-- dt: long\n",
      "|-- wind_deg: long\n",
      "|-- local_time: timestamp\n",
      "|-- weather_main: string\n",
      "|-- clouds_all: long\n",
      "|-- temp: double\n",
      "|-- city_name: string\n",
      "|-- grnd_level: string\n",
      "|-- pressure: long\n",
      "|-- weather_icon: string\n",
      "|-- rain_1h: double\n",
      "|-- humidity: long\n",
      "|-- dt_iso: string\n",
      "|-- snow_1h: string\n",
      "|-- weather_description: string\n",
      "|-- rain_3h: string\n",
      "|-- lon: double\n",
      "|-- wind_speed: double"
     ]
    }
   ],
   "source": [
    "mooDF.printSchema()"
   ]
  },
  {
   "cell_type": "code",
   "execution_count": 20,
   "id": "corresponding-source",
   "metadata": {},
   "outputs": [
    {
     "data": {
      "application/vnd.jupyter.widget-view+json": {
       "model_id": "",
       "version_major": 2,
       "version_minor": 0
      },
      "text/plain": [
       "FloatProgress(value=0.0, bar_style='info', description='Progress:', layout=Layout(height='25px', width='50%'),…"
      ]
     },
     "metadata": {},
     "output_type": "display_data"
    },
    {
     "name": "stdout",
     "output_type": "stream",
     "text": [
      "+-------+---------+--------+--------+---------+----------+----------+-------------------+--------------------+--------+----------+--------+-------------------+------------+----------+-----+---------+----------+--------+------------+-------+--------+--------------------+-------+-------------------+-------+----------+----------+\n",
      "|snow_3h|      lat|temp_max|timezone|sea_level|feels_like|weather_id|      utc_timestamp|          moon_phase|temp_min|        dt|wind_deg|         local_time|weather_main|clouds_all| temp|city_name|grnd_level|pressure|weather_icon|rain_1h|humidity|              dt_iso|snow_1h|weather_description|rain_3h|       lon|wind_speed|\n",
      "+-------+---------+--------+--------+---------+----------+----------+-------------------+--------------------+--------+----------+--------+-------------------+------------+----------+-----+---------+----------+--------+------------+-------+--------+--------------------+-------+-------------------+-------+----------+----------+\n",
      "|       |30.996856|   54.22|  -21600|         |     45.23|       800|2020-01-01 00:00:00|waxing crescent (...|    44.6|1577836800|     247|2019-12-31 18:00:00|       Clear|         1|48.67| Corrigan|          |    1019|         01n|   null|      57|2020-01-01 00:00:...|       |       sky is clear|       |-94.827153|      0.34|\n",
      "|       |30.996856|   52.68|  -21600|         |     42.75|       800|2020-01-01 01:00:00|waxing crescent (...|    41.0|1577840400|     159|2019-12-31 19:00:00|       Clear|         1|45.77| Corrigan|          |    1019|         01n|   null|      75|2020-01-01 01:00:...|       |       sky is clear|       |-94.827153|      0.87|\n",
      "|       |30.996856|   51.56|  -21600|         |      39.6|       800|2020-01-01 02:00:00|waxing crescent (...|    39.0|1577844000|     179|2019-12-31 20:00:00|       Clear|         1|43.61| Corrigan|          |    1018|         01n|   null|      80|2020-01-01 02:00:...|       |       sky is clear|       |-94.827153|      2.46|\n",
      "|       |30.996856|    50.0|  -21600|         |     38.08|       800|2020-01-01 03:00:00|waxing crescent (...|    37.4|1577847600|     172|2019-12-31 21:00:00|       Clear|         1|42.39| Corrigan|          |    1019|         01n|   null|      80|2020-01-01 03:00:...|       |       sky is clear|       |-94.827153|      2.59|\n",
      "|       |30.996856|   48.99|  -21600|         |     37.47|       800|2020-01-01 04:00:00|waxing crescent (...|    37.4|1577851200|     184|2019-12-31 22:00:00|       Clear|         1|41.79| Corrigan|          |    1018|         01n|   null|      80|2020-01-01 04:00:...|       |       sky is clear|       |-94.827153|      2.46|\n",
      "|       |30.996856|   48.99|  -21600|         |      36.7|       800|2020-01-01 05:00:00|waxing crescent (...|    37.4|1577854800|     213|2019-12-31 23:00:00|       Clear|         1|41.41| Corrigan|          |    1019|         01n|   null|      80|2020-01-01 05:00:...|       |       sky is clear|       |-94.827153|      3.06|\n",
      "|       |30.996856|   47.86|  -21600|         |     36.23|       800|2020-01-01 06:00:00|in its first quar...|    35.6|1577858400|     186|2020-01-01 00:00:00|       Clear|         1|41.16| Corrigan|          |    1018|         01n|   null|      86|2020-01-01 06:00:...|       |       sky is clear|       |-94.827153|      3.91|\n",
      "|       |30.996856|   47.88|  -21600|         |      36.1|       800|2020-01-01 07:00:00|in its first quar...|    35.6|1577862000|     190|2020-01-01 01:00:00|       Clear|         1|41.05| Corrigan|          |    1017|         01n|   null|      86|2020-01-01 07:00:...|       |       sky is clear|       |-94.827153|      3.94|\n",
      "|       |30.996856|   47.37|  -21600|         |     35.87|       800|2020-01-01 08:00:00|in its first quar...|    33.8|1577865600|     213|2020-01-01 02:00:00|       Clear|         1|40.73| Corrigan|          |    1017|         01n|   null|      86|2020-01-01 08:00:...|       |       sky is clear|       |-94.827153|      3.67|\n",
      "|       |30.996856|   48.09|  -21600|         |     36.77|       800|2020-01-01 09:00:00|in its first quar...|    33.8|1577869200|     210|2020-01-01 03:00:00|       Clear|         1|41.29| Corrigan|          |    1018|         01n|   null|      86|2020-01-01 09:00:...|       |       sky is clear|       |-94.827153|      3.24|\n",
      "|       |30.996856|    48.0|  -21600|         |     37.08|       800|2020-01-01 10:00:00|in its first quar...|   37.99|1577872800|     219|2020-01-01 04:00:00|       Clear|         1| 41.4| Corrigan|          |    1017|         01n|   null|      86|2020-01-01 10:00:...|       |       sky is clear|       |-94.827153|      2.91|\n",
      "|       |30.996856|   48.99|  -21600|         |     36.37|       800|2020-01-01 11:00:00|in its first quar...|    33.8|1577876400|     183|2020-01-01 05:00:00|       Clear|         1|41.07| Corrigan|          |    1016|         01n|   null|      86|2020-01-01 11:00:...|       |       sky is clear|       |-94.827153|      3.49|\n",
      "|       |30.996856|    45.0|  -21600|         |     35.51|       804|2020-01-01 12:00:00|in its first quar...|    33.8|1577880000|     143|2020-01-01 06:00:00|      Clouds|        90|40.23| Corrigan|          |    1016|         04n|   null|      86|2020-01-01 12:00:...|       |    overcast clouds|       |-94.827153|      3.24|\n",
      "|       |30.996856|    50.0|  -21600|         |     37.53|       804|2020-01-01 13:00:00|in its first quar...|    35.6|1577883600|     133|2020-01-01 07:00:00|      Clouds|        90|42.69| Corrigan|          |    1016|         04n|   null|      81|2020-01-01 13:00:...|       |    overcast clouds|       |-94.827153|      4.34|\n",
      "|       |30.996856|    50.0|  -21600|         |     38.77|       804|2020-01-01 14:00:00|in its first quar...|    39.2|1577887200|     130|2020-01-01 08:00:00|      Clouds|        90|44.22| Corrigan|          |    1016|         04d|   null|      75|2020-01-01 14:00:...|       |    overcast clouds|       |-94.827153|       4.7|\n",
      "|       |30.996856|    50.0|  -21600|         |     38.66|       804|2020-01-01 15:00:00|in its first quar...|    42.8|1577890800|     140|2020-01-01 09:00:00|      Clouds|        90|46.27| Corrigan|          |    1015|         04d|   null|      65|2020-01-01 15:00:...|       |    overcast clouds|       |-94.827153|      8.05|\n",
      "|       |30.996856|   51.01|  -21600|         |     43.25|       804|2020-01-01 16:00:00|in its first quar...|    48.0|1577894400|     160|2020-01-01 10:00:00|      Clouds|        90|49.62| Corrigan|          |    1016|         04d|   null|      66|2020-01-01 16:00:...|       |    overcast clouds|       |-94.827153|      6.93|\n",
      "|       |30.996856|    52.0|  -21600|         |     44.46|       804|2020-01-01 17:00:00|in its first quar...|    50.0|1577898000|     160|2020-01-01 11:00:00|      Clouds|        90|50.95| Corrigan|          |    1015|         04d|   null|      61|2020-01-01 17:00:...|       |    overcast clouds|       |-94.827153|      6.93|\n",
      "|       |30.996856|    54.0|  -21600|         |     47.44|       804|2020-01-01 18:00:00|in its first quar...|   50.96|1577901600|     160|2020-01-01 12:00:00|      Clouds|        90|52.05| Corrigan|          |    1014|         04d|   null|      57|2020-01-01 18:00:...|       |    overcast clouds|       |-94.827153|      3.36|\n",
      "|       |30.996856|    55.0|  -21600|         |     46.89|       804|2020-01-01 19:00:00|in its first quar...|    51.8|1577905200|     150|2020-01-01 13:00:00|      Clouds|        90|52.77| Corrigan|          |    1013|         04d|   null|      57|2020-01-01 19:00:...|       |    overcast clouds|       |-94.827153|      5.82|\n",
      "+-------+---------+--------+--------+---------+----------+----------+-------------------+--------------------+--------+----------+--------+-------------------+------------+----------+-----+---------+----------+--------+------------+-------+--------+--------------------+-------+-------------------+-------+----------+----------+\n",
      "only showing top 20 rows"
     ]
    }
   ],
   "source": [
    "mooDF.toDF().show()"
   ]
  },
  {
   "cell_type": "code",
   "execution_count": 21,
   "id": "filled-letter",
   "metadata": {},
   "outputs": [
    {
     "data": {
      "application/vnd.jupyter.widget-view+json": {
       "model_id": "",
       "version_major": 2,
       "version_minor": 0
      },
      "text/plain": [
       "FloatProgress(value=0.0, bar_style='info', description='Progress:', layout=Layout(height='25px', width='50%'),…"
      ]
     },
     "metadata": {},
     "output_type": "display_data"
    },
    {
     "name": "stdout",
     "output_type": "stream",
     "text": [
      "root\n",
      "|-- lon: decimal\n",
      "|-- pressure: decimal\n",
      "|-- tz_offset_sec: int\n",
      "|-- city_name: string\n",
      "|-- utc_time: timestamp\n",
      "|-- temperature: decimal\n",
      "|-- rel_humidity: short\n",
      "|-- windspeed: decimal\n",
      "|-- lat: decimal\n",
      "|-- moon_phase: string\n",
      "|-- local_time: timestamp"
     ]
    }
   ],
   "source": [
    "#map fields from source to destination. Fields not mapped are dropped.\n",
    "## @type: ApplyMapping\n",
    "## @args: [mappings = [(\"lon\", \"double\", \"lon\", \"decimal\"), (\"pressure\", \"long\", \"pressure\", \"decimal\"), (\"timezone\", \"long\", \"tz_offset_sec\", \"int\"), (\"city_name\", \"string\", \"city_name\", \"string\"), (\"dt_iso\", \"string\", \"utc_time\", \"timestamp\"), (\"temp\", \"double\", \"temperature\", \"decimal\"), (\"humidity\", \"long\", \"rel_humidity\", \"short\"), (\"wind_speed\", \"double\", \"windspeed\", \"decimal\"), (\"lat\", \"double\", \"lat\", \"decimal\")], transformation_ctx = \"Transform0\"]\n",
    "## @return: Transform0\n",
    "## @inputs: [frame = DataSource0]\n",
    "Transform0 = ApplyMapping.apply(\n",
    "    frame = mooDF, \n",
    "    mappings = [\n",
    "        (\"lon\", \"double\", \"lon\", \"decimal\"), \n",
    "        (\"pressure\", \"long\", \"pressure\", \"decimal\"), \n",
    "        (\"timezone\", \"long\", \"tz_offset_sec\", \"int\"), \n",
    "        (\"city_name\", \"string\", \"city_name\", \"string\"), \n",
    "        (\"dt_iso\", \"string\", \"utc_time\", \"timestamp\"), \n",
    "        (\"temp\", \"double\", \"temperature\", \"decimal\"), \n",
    "        (\"humidity\", \"long\", \"rel_humidity\", \"short\"), \n",
    "        (\"wind_speed\", \"double\", \"windspeed\", \"decimal\"), \n",
    "        (\"lat\", \"double\", \"lat\", \"decimal\"),\n",
    "        (\"moon_phase\", \"string\", \"moon_phase\", \"string\"),\n",
    "        (\"local_time\", \"timestamp\", \"local_time\", \"timestamp\")\n",
    "    ], \n",
    "    transformation_ctx = \"Transform0\")\n",
    "\n",
    "Transform0.printSchema()"
   ]
  },
  {
   "cell_type": "code",
   "execution_count": 22,
   "id": "wrapped-angola",
   "metadata": {},
   "outputs": [
    {
     "data": {
      "application/vnd.jupyter.widget-view+json": {
       "model_id": "",
       "version_major": 2,
       "version_minor": 0
      },
      "text/plain": [
       "FloatProgress(value=0.0, bar_style='info', description='Progress:', layout=Layout(height='25px', width='50%'),…"
      ]
     },
     "metadata": {},
     "output_type": "display_data"
    },
    {
     "name": "stdout",
     "output_type": "stream",
     "text": [
      "Transformed Record Count: 8491"
     ]
    }
   ],
   "source": [
    "print(\"Transformed Record Count: \" + str(Transform0.count()))"
   ]
  },
  {
   "cell_type": "code",
   "execution_count": null,
   "id": "irish-domain",
   "metadata": {},
   "outputs": [],
   "source": [
    "\n",
    "\n",
    "## @type: DataSink\n",
    "## @args: [database = \"historical-weather-db\", redshift_tmp_dir = TempDir, table_name = \"gamepics_public_weather\", transformation_ctx = \"DataSink0\"]\n",
    "## @return: DataSink0\n",
    "## @inputs: [frame = Transform0]\n",
    "DataSink0 = glueContext.write_dynamic_frame.from_catalog(\n",
    "    frame = Transform0, \n",
    "    database = \"historical-weather-db\", \n",
    "    redshift_tmp_dir = args[\"TempDir\"], \n",
    "    table_name = \"gamepics_public_weather\", \n",
    "    transformation_ctx = \"DataSink0\")\n",
    "job.commit()"
   ]
  }
 ],
 "metadata": {
  "kernelspec": {
   "display_name": "Sparkmagic (PySpark)",
   "language": "python",
   "name": "pysparkkernel"
  },
  "language_info": {
   "codemirror_mode": {
    "name": "python",
    "version": 3
   },
   "file_extension": ".py",
   "mimetype": "text/x-python",
   "name": "pyspark",
   "pygments_lexer": "python3"
  }
 },
 "nbformat": 4,
 "nbformat_minor": 5
}
